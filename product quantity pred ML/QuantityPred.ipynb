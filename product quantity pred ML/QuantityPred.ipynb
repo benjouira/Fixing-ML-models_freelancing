{
 "cells": [
  {
   "cell_type": "code",
   "execution_count": 30,
   "id": "2f16cf30",
   "metadata": {},
   "outputs": [],
   "source": [
    "#importation des bibliothéque \n",
    "import statsmodels.formula.api as s\n",
    "from sklearn.linear_model import LinearRegression\n",
    "from sklearn.metrics import confusion_matrix,accuracy_score\n",
    "from matplotlib import pyplot as plt\n",
    "from sklearn.model_selection import train_test_split\n",
    "import numpy as np\n",
    "import pandas as pd\n",
    "import datetime\n",
    "#importation base de donnée\n",
    "# df = pd.read_csv('/content/drive/MyDrive/stageASM/dataset.csv',header=None)\n",
    "\n",
    "dff = pd.read_csv('dataset.csv')"
   ]
  },
  {
   "cell_type": "code",
   "execution_count": 44,
   "id": "ba6e3ec2",
   "metadata": {},
   "outputs": [],
   "source": [
    "# besh ma nab9aash kol mara nloadi fl dataframe mn el pc nwali nahedhha mena toul asra3\n",
    "df = dff"
   ]
  },
  {
   "cell_type": "code",
   "execution_count": 32,
   "id": "a0dadf47",
   "metadata": {},
   "outputs": [
    {
     "data": {
      "text/html": [
       "<div><div id=8f896ffe-4d40-4c3f-8373-f335879acbe2 style=\"display:none; background-color:#9D6CFF; color:white; width:200px; height:30px; padding-left:5px; border-radius:4px; flex-direction:row; justify-content:space-around; align-items:center;\" onmouseover=\"this.style.backgroundColor='#BA9BF8'\" onmouseout=\"this.style.backgroundColor='#9D6CFF'\" onclick=\"window.commands?.execute('create-mitosheet-from-dataframe-output');\">See Full Dataframe in Mito</div> <script> if (window.commands.hasCommand('create-mitosheet-from-dataframe-output')) document.getElementById('8f896ffe-4d40-4c3f-8373-f335879acbe2').style.display = 'flex' </script> <table border=\"1\" class=\"dataframe\">\n",
       "  <thead>\n",
       "    <tr style=\"text-align: right;\">\n",
       "      <th></th>\n",
       "      <th>ART_Designation</th>\n",
       "      <th>price</th>\n",
       "      <th>ddm</th>\n",
       "      <th>qte</th>\n",
       "    </tr>\n",
       "  </thead>\n",
       "  <tbody>\n",
       "    <tr>\n",
       "      <th>0</th>\n",
       "      <td>EAU M. SAFIA 1.5L /QT6</td>\n",
       "      <td>0.6</td>\n",
       "      <td>31/12/2021</td>\n",
       "      <td>2</td>\n",
       "    </tr>\n",
       "    <tr>\n",
       "      <th>1</th>\n",
       "      <td>FLEURE B30 SANS FEUILLE</td>\n",
       "      <td>4.8</td>\n",
       "      <td>31/12/2021</td>\n",
       "      <td>1</td>\n",
       "    </tr>\n",
       "  </tbody>\n",
       "</table></div>"
      ],
      "text/plain": [
       "           ART_Designation  price         ddm  qte\n",
       "0   EAU M. SAFIA 1.5L /QT6    0.6  31/12/2021    2\n",
       "1  FLEURE B30 SANS FEUILLE    4.8  31/12/2021    1"
      ]
     },
     "execution_count": 32,
     "metadata": {},
     "output_type": "execute_result"
    }
   ],
   "source": [
    "df.head(2)"
   ]
  },
  {
   "cell_type": "code",
   "execution_count": 45,
   "id": "8f08d12b",
   "metadata": {},
   "outputs": [
    {
     "data": {
      "text/plain": [
       "14307"
      ]
     },
     "execution_count": 45,
     "metadata": {},
     "output_type": "execute_result"
    }
   ],
   "source": [
    "df['ART_Designation'].value_counts().count()"
   ]
  },
  {
   "cell_type": "code",
   "execution_count": 34,
   "id": "8569a22b",
   "metadata": {},
   "outputs": [
    {
     "data": {
      "text/plain": [
       "1     2744\n",
       "2     1200\n",
       "3      823\n",
       "4      557\n",
       "5      375\n",
       "10     355\n",
       "25     131\n",
       "6      122\n",
       "7       90\n",
       "8       79\n",
       "12      76\n",
       "15      24\n",
       "9       21\n",
       "50      15\n",
       "20      13\n",
       "13      10\n",
       "14       9\n",
       "17       8\n",
       "11       7\n",
       "30       6\n",
       "16       2\n",
       "19       2\n",
       "35       2\n",
       "40       2\n",
       "21       2\n",
       "46       1\n",
       "22       1\n",
       "27       1\n",
       "23       1\n",
       "24       1\n",
       "18       1\n",
       "29       1\n",
       "Name: qte, dtype: int64"
      ]
     },
     "execution_count": 34,
     "metadata": {},
     "output_type": "execute_result"
    }
   ],
   "source": [
    "df[df['ART_Designation']==\"POIS CHICHE LABLEBI\"][\"qte\"].value_counts()"
   ]
  },
  {
   "cell_type": "code",
   "execution_count": 71,
   "id": "0f7928c4",
   "metadata": {},
   "outputs": [
    {
     "data": {
      "text/plain": [
       "1     282\n",
       "6     263\n",
       "2     194\n",
       "12    129\n",
       "3      57\n",
       "4      51\n",
       "18     36\n",
       "24     15\n",
       "5      12\n",
       "30      8\n",
       "48      3\n",
       "7       2\n",
       "96      1\n",
       "36      1\n",
       "13      1\n",
       "60      1\n",
       "Name: qte, dtype: int64"
      ]
     },
     "execution_count": 71,
     "metadata": {},
     "output_type": "execute_result"
    }
   ],
   "source": [
    "df[df['ART_Designation']==\"EAU M. SAFIA 1.5L /QT6\"][\"qte\"].value_counts()"
   ]
  },
  {
   "cell_type": "code",
   "execution_count": 36,
   "id": "57da6d37",
   "metadata": {},
   "outputs": [
    {
     "name": "stdout",
     "output_type": "stream",
     "text": [
      "<class 'pandas.core.frame.DataFrame'>\n",
      "RangeIndex: 1048575 entries, 0 to 1048574\n",
      "Data columns (total 4 columns):\n",
      " #   Column           Non-Null Count    Dtype  \n",
      "---  ------           --------------    -----  \n",
      " 0   ART_Designation  1048575 non-null  object \n",
      " 1   price            1048575 non-null  float64\n",
      " 2   ddm              1048575 non-null  object \n",
      " 3   qte              1048575 non-null  int64  \n",
      "dtypes: float64(1), int64(1), object(2)\n",
      "memory usage: 32.0+ MB\n"
     ]
    }
   ],
   "source": [
    "dff.info()"
   ]
  },
  {
   "cell_type": "code",
   "execution_count": 29,
   "id": "f3ff57e4",
   "metadata": {},
   "outputs": [],
   "source": [
    "# delete product with negative quantity\n",
    "def delete_Qte_Negative (df):\n",
    "    df = df[df['qte']>0]"
   ]
  },
  {
   "cell_type": "code",
   "execution_count": null,
   "id": "7b4c3ad8",
   "metadata": {},
   "outputs": [],
   "source": [
    "# delete product with negative price\n",
    "def delete_Price_Negative ():\n",
    "    df = df[df['price']>0]"
   ]
  },
  {
   "cell_type": "code",
   "execution_count": 62,
   "id": "4442dca1",
   "metadata": {},
   "outputs": [],
   "source": [
    "# nfaskhou les produits eli ma tbe3oush barsha\n",
    "# mathalan produit tbe3 mara wa7da fi dataset fiha malyoun vente lazem yetfasakh khater yetsama outliers w ynjaem \n",
    "# y8altelna el model \n",
    "def delete_Outliers(df):\n",
    "    return df.groupby('ART_Designation').filter(lambda x : len(x)<50)"
   ]
  },
  {
   "cell_type": "code",
   "execution_count": 63,
   "id": "336bac98",
   "metadata": {},
   "outputs": [],
   "source": [
    "dfff = delete_Outliers(df)"
   ]
  },
  {
   "cell_type": "code",
   "execution_count": 64,
   "id": "4844735c",
   "metadata": {},
   "outputs": [
    {
     "data": {
      "text/plain": [
       "11080"
      ]
     },
     "execution_count": 64,
     "metadata": {},
     "output_type": "execute_result"
    }
   ],
   "source": [
    "dfff['ART_Designation'].value_counts().count()"
   ]
  },
  {
   "cell_type": "code",
   "execution_count": 55,
   "id": "c3873cc7",
   "metadata": {},
   "outputs": [
    {
     "data": {
      "text/plain": [
       "<pandas.core.groupby.generic.DataFrameGroupBy object at 0x000001F60277B130>"
      ]
     },
     "execution_count": 55,
     "metadata": {},
     "output_type": "execute_result"
    }
   ],
   "source": [
    "dfff.groupby(['ART_Designation','qte'])\n",
    "# .value_counts()\n",
    "# .filter(lambda x : len(x)<15)\n",
    "# dfff['ART_Designation'].value_counts().count()"
   ]
  },
  {
   "cell_type": "code",
   "execution_count": 68,
   "id": "8bd75e53",
   "metadata": {},
   "outputs": [],
   "source": [
    "def delete_prodect_Outliers(df):\n",
    "    return df.groupby(['ART_Designation','qte']).filter(lambda x : len(x)<15)"
   ]
  },
  {
   "cell_type": "code",
   "execution_count": 69,
   "id": "4bb1af45",
   "metadata": {},
   "outputs": [],
   "source": [
    "fff = delete_prodect_Outliers(dfff)"
   ]
  },
  {
   "cell_type": "code",
   "execution_count": 70,
   "id": "42138067",
   "metadata": {},
   "outputs": [
    {
     "data": {
      "text/plain": [
       "10580"
      ]
     },
     "execution_count": 70,
     "metadata": {},
     "output_type": "execute_result"
    }
   ],
   "source": [
    "fff['ART_Designation'].value_counts().count()"
   ]
  },
  {
   "cell_type": "code",
   "execution_count": 74,
   "id": "14f3d34f",
   "metadata": {},
   "outputs": [
    {
     "data": {
      "text/plain": [
       "63098"
      ]
     },
     "execution_count": 74,
     "metadata": {},
     "output_type": "execute_result"
    }
   ],
   "source": [
    "fff.shape[0]"
   ]
  },
  {
   "cell_type": "code",
   "execution_count": 72,
   "id": "5601a63b",
   "metadata": {},
   "outputs": [
    {
     "data": {
      "text/plain": [
       "Series([], Name: qte, dtype: int64)"
      ]
     },
     "execution_count": 72,
     "metadata": {},
     "output_type": "execute_result"
    }
   ],
   "source": [
    "fff[fff['ART_Designation']==\"EAU M. SAFIA 1.5L /QT6\"][\"qte\"].value_counts()"
   ]
  },
  {
   "cell_type": "code",
   "execution_count": 75,
   "id": "3a19aba1",
   "metadata": {},
   "outputs": [
    {
     "data": {
      "text/html": [
       "<div><div id=29abc289-53ac-447b-a4a6-76977dbd45f2 style=\"display:none; background-color:#9D6CFF; color:white; width:200px; height:30px; padding-left:5px; border-radius:4px; flex-direction:row; justify-content:space-around; align-items:center;\" onmouseover=\"this.style.backgroundColor='#BA9BF8'\" onmouseout=\"this.style.backgroundColor='#9D6CFF'\" onclick=\"window.commands?.execute('create-mitosheet-from-dataframe-output');\">See Full Dataframe in Mito</div> <script> if (window.commands.hasCommand('create-mitosheet-from-dataframe-output')) document.getElementById('29abc289-53ac-447b-a4a6-76977dbd45f2').style.display = 'flex' </script> <table border=\"1\" class=\"dataframe\">\n",
       "  <thead>\n",
       "    <tr style=\"text-align: right;\">\n",
       "      <th></th>\n",
       "      <th>ART_Designation</th>\n",
       "      <th>price</th>\n",
       "      <th>ddm</th>\n",
       "      <th>qte</th>\n",
       "    </tr>\n",
       "  </thead>\n",
       "  <tbody>\n",
       "  </tbody>\n",
       "</table></div>"
      ],
      "text/plain": [
       "Empty DataFrame\n",
       "Columns: [ART_Designation, price, ddm, qte]\n",
       "Index: []"
      ]
     },
     "execution_count": 75,
     "metadata": {},
     "output_type": "execute_result"
    }
   ],
   "source": [
    "fff[fff['ART_Designation']==\"EAU M. SAFIA 1.5L /QT6\"]"
   ]
  },
  {
   "cell_type": "code",
   "execution_count": null,
   "id": "6946a8c9",
   "metadata": {},
   "outputs": [],
   "source": [
    "def splitDate (d):\n",
    "    pass"
   ]
  },
  {
   "cell_type": "code",
   "execution_count": null,
   "id": "b56bbd49",
   "metadata": {},
   "outputs": [],
   "source": [
    "def norlmalisation ():\n",
    "    pass"
   ]
  }
 ],
 "metadata": {
  "kernelspec": {
   "display_name": "Python 3.9.13 64-bit (windows store)",
   "language": "python",
   "name": "python3"
  },
  "language_info": {
   "codemirror_mode": {
    "name": "ipython",
    "version": 3
   },
   "file_extension": ".py",
   "mimetype": "text/x-python",
   "name": "python",
   "nbconvert_exporter": "python",
   "pygments_lexer": "ipython3",
   "version": "3.9.13"
  },
  "vscode": {
   "interpreter": {
    "hash": "2d90b6fcee44e9deae02cd98a7e939a881da01566d6257e16a8fd4a96ad5be88"
   }
  }
 },
 "nbformat": 4,
 "nbformat_minor": 5
}
